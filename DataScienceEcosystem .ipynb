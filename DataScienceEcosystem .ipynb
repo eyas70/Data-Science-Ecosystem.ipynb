{
 "cells": [
  {
   "cell_type": "markdown",
   "id": "a4c180ed",
   "metadata": {},
   "source": [
    "# Data Science Tools and Ecosystem:"
   ]
  },
  {
   "cell_type": "markdown",
   "id": "44f04f9e",
   "metadata": {},
   "source": [
    "### In this notebook, Data Science Tools and Ecosystem are summarized"
   ]
  },
  {
   "cell_type": "markdown",
   "id": "b3fab55e",
   "metadata": {},
   "source": [
    "Some of the popular languages that Data Scientists use are:"
   ]
  },
  {
   "cell_type": "markdown",
   "id": "78fd28ce",
   "metadata": {},
   "source": [
    "1. Python\n",
    "2. R\n",
    "3. Julia"
   ]
  },
  {
   "cell_type": "markdown",
   "id": "7ee38dcd",
   "metadata": {},
   "source": [
    "Some of the commonly used libraries used by Data Scientists include:"
   ]
  },
  {
   "cell_type": "markdown",
   "id": "d8474786",
   "metadata": {},
   "source": [
    "1. Numpy\n",
    "2. Pandad\n",
    "3. Seborn\n",
    "4. PyTorch"
   ]
  },
  {
   "cell_type": "markdown",
   "id": "f531b7f0",
   "metadata": {},
   "source": [
    "| Data Science Tools|\n",
    "|----|\n",
    "|IBM SPSS|\n",
    "|Tableau|\n",
    "|Keras|"
   ]
  },
  {
   "cell_type": "markdown",
   "id": "ae140c43",
   "metadata": {},
   "source": [
    "#### Below are a few examples of evaluating arithmetic expressions in Python"
   ]
  },
  {
   "cell_type": "code",
   "execution_count": 7,
   "id": "077528f6",
   "metadata": {},
   "outputs": [
    {
     "name": "stdout",
     "output_type": "stream",
     "text": [
      "17\n"
     ]
    }
   ],
   "source": [
    "print ((3*4)+5)"
   ]
  },
  {
   "cell_type": "markdown",
   "id": "a1f944e9",
   "metadata": {},
   "source": [
    "This a simple arithmetic expression to mutiply then add integers"
   ]
  },
  {
   "cell_type": "code",
   "execution_count": 2,
   "id": "ce89d784",
   "metadata": {},
   "outputs": [
    {
     "name": "stdout",
     "output_type": "stream",
     "text": [
      "hours= 3\n",
      "minutes= 20\n"
     ]
    }
   ],
   "source": [
    "# This will convert 200 minutes to hours by diving by 60\n",
    "h= 200//60\n",
    "m=200%60\n",
    "print ('hours=',h)\n",
    "print ('minutes=',m)\n"
   ]
  },
  {
   "cell_type": "markdown",
   "id": "edcc8a08",
   "metadata": {},
   "source": [
    "This will convert 200 minutes to hours by diving by 60"
   ]
  },
  {
   "cell_type": "markdown",
   "id": "386a5c3d",
   "metadata": {},
   "source": [
    "# In this notebook, Data Science Tools and Ecosystem are summarized"
   ]
  },
  {
   "cell_type": "markdown",
   "id": "2ee66ca9",
   "metadata": {},
   "source": [
    "## Notebook Objectives"
   ]
  },
  {
   "cell_type": "markdown",
   "id": "fbde1654",
   "metadata": {},
   "source": [
    " ### The Objectives The  Notebook  by helping students better retain information and improve about programming popular languages for Data Science such as :\n"
   ]
  },
  {
   "cell_type": "markdown",
   "id": "e436da7a",
   "metadata": {},
   "source": [
    "### popular languages for Data Science"
   ]
  },
  {
   "cell_type": "markdown",
   "id": "62018cf5",
   "metadata": {},
   "source": [
    "1. Python\n",
    "2. R\n",
    "3. Julia"
   ]
  },
  {
   "cell_type": "markdown",
   "id": "90c3b1b1",
   "metadata": {},
   "source": [
    "# Author"
   ]
  },
  {
   "cell_type": "markdown",
   "id": "aef34760",
   "metadata": {},
   "source": [
    "Eyas GAffar A. Osman"
   ]
  }
 ],
 "metadata": {
  "kernelspec": {
   "display_name": "Python 3",
   "language": "python",
   "name": "python3"
  },
  "language_info": {
   "codemirror_mode": {
    "name": "ipython",
    "version": 3
   },
   "file_extension": ".py",
   "mimetype": "text/x-python",
   "name": "python",
   "nbconvert_exporter": "python",
   "pygments_lexer": "ipython3",
   "version": "3.8.8"
  }
 },
 "nbformat": 4,
 "nbformat_minor": 5
}
